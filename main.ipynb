{
  "nbformat": 4,
  "nbformat_minor": 0,
  "metadata": {
    "colab": {
      "name": "hotdogs.ipynb",
      "provenance": [],
      "collapsed_sections": []
    },
    "kernelspec": {
      "name": "python3",
      "display_name": "Python 3"
    },
    "accelerator": "GPU"
  },
  "cells": [
    {
      "cell_type": "code",
      "metadata": {
        "id": "YR0vKlWzqipZ",
        "colab_type": "code",
        "colab": {}
      },
      "source": [
        "#Import all the neccessary libraries\n",
        "from keras.models import Sequential\n",
        "from keras.layers import Conv2D,MaxPool2D,Dropout,Flatten,Dense\n",
        "from keras.preprocessing.image import ImageDataGenerator\n",
        "from keras.preprocessing import image\n",
        "import numpy as np\n",
        "import matplotlib.pyplot as plt\n",
        "import os"
      ],
      "execution_count": null,
      "outputs": []
    },
    {
      "cell_type": "code",
      "metadata": {
        "id": "P3gRi4L3rRWm",
        "colab_type": "code",
        "colab": {}
      },
      "source": [
        "#Augment the images\n",
        "datagen = ImageDataGenerator(\n",
        "rotation_range=15,\n",
        "rescale=1/255,\n",
        "zoom_range=0.1,\n",
        "horizontal_flip=True,width_shift_range=0.1,height_shift_range=0.1, validation_split=0.1)"
      ],
      "execution_count": null,
      "outputs": []
    },
    {
      "cell_type": "code",
      "metadata": {
        "id": "NkNn_niKrVDB",
        "colab_type": "code",
        "colab": {
          "base_uri": "https://localhost:8080/",
          "height": 34
        },
        "outputId": "b11627d1-5177-4322-a161-af0884741c1c"
      },
      "source": [
        "#Train dataset\n",
        "trainDatagen = datagen.flow_from_directory(directory='/content/drive/My Drive/hotdogs',\n",
        "                                           target_size=(128, 128),\n",
        "                                           class_mode = 'binary',\n",
        "                                           batch_size = 64,\n",
        "                                           subset='training')"
      ],
      "execution_count": null,
      "outputs": [
        {
          "output_type": "stream",
          "text": [
            "Found 632 images belonging to 2 classes.\n"
          ],
          "name": "stdout"
        }
      ]
    },
    {
      "cell_type": "code",
      "metadata": {
        "id": "gsctkinlrfpX",
        "colab_type": "code",
        "colab": {
          "base_uri": "https://localhost:8080/",
          "height": 34
        },
        "outputId": "80c4f8ce-7fa6-4fb1-b6f0-0af2b3a4f6be"
      },
      "source": [
        "#Assign numbers to each category\n",
        "trainDatagen.class_indices"
      ],
      "execution_count": null,
      "outputs": [
        {
          "output_type": "execute_result",
          "data": {
            "text/plain": [
              "{'hotdog': 0, 'other': 1}"
            ]
          },
          "metadata": {
            "tags": []
          },
          "execution_count": 4
        }
      ]
    },
    {
      "cell_type": "code",
      "metadata": {
        "id": "DeO_8uyFrjKS",
        "colab_type": "code",
        "colab": {
          "base_uri": "https://localhost:8080/",
          "height": 34
        },
        "outputId": "606dd87c-ea6a-4227-c558-a021432e4211"
      },
      "source": [
        "#Validation dataset\n",
        "valDatagen = datagen.flow_from_directory(directory='/content/drive/My Drive/hotdogs',\n",
        "                                           target_size=(128, 128),\n",
        "                                           class_mode = 'binary',\n",
        "                                           batch_size = 64,\n",
        "                                           subset='validation')"
      ],
      "execution_count": null,
      "outputs": [
        {
          "output_type": "stream",
          "text": [
            "Found 70 images belonging to 2 classes.\n"
          ],
          "name": "stdout"
        }
      ]
    },
    {
      "cell_type": "code",
      "metadata": {
        "id": "PDLQNq-krv6N",
        "colab_type": "code",
        "colab": {
          "base_uri": "https://localhost:8080/",
          "height": 595
        },
        "outputId": "0699855c-9e12-46d2-9b29-3427ce32546c"
      },
      "source": [
        "#Define the CNN layers\n",
        "model = Sequential() #I'm going to be creating a sequential model\n",
        "model.add(Conv2D(16,(3,3),activation='relu',input_shape=(128, 128, 3)))\n",
        "model.add(MaxPool2D(2,2))\n",
        "model.add(Dropout(0.25))i\n",
        "model.add(Conv2D(64,(3,3),activation='relu'))\n",
        "model.add(MaxPool2D(2,2))\n",
        "model.add(Dropout(0.25))\n",
        "model.add(Conv2D(64,(3,3),activation='relu'))\n",
        "model.add(MaxPool2D(2,2))\n",
        "model.add(Dropout(0.25))\n",
        "model.add(Flatten())\n",
        "model.add(Dense(64,activation='relu'))\n",
        "model.add(Dropout(0.25))\n",
        "model.add(Dense(1,activation='sigmoid'))\n",
        "\n",
        "model.compile(loss='binary_crossentropy',optimizer='Adam',metrics=['accuracy']) #Compile the model\n",
        "\n",
        "model.summary() #Get the model's summary"
      ],
      "execution_count": null,
      "outputs": [
        {
          "output_type": "stream",
          "text": [
            "Model: \"sequential\"\n",
            "_________________________________________________________________\n",
            "Layer (type)                 Output Shape              Param #   \n",
            "=================================================================\n",
            "conv2d (Conv2D)              (None, 126, 126, 16)      448       \n",
            "_________________________________________________________________\n",
            "max_pooling2d (MaxPooling2D) (None, 63, 63, 16)        0         \n",
            "_________________________________________________________________\n",
            "dropout (Dropout)            (None, 63, 63, 16)        0         \n",
            "_________________________________________________________________\n",
            "conv2d_1 (Conv2D)            (None, 61, 61, 64)        9280      \n",
            "_________________________________________________________________\n",
            "max_pooling2d_1 (MaxPooling2 (None, 30, 30, 64)        0         \n",
            "_________________________________________________________________\n",
            "dropout_1 (Dropout)          (None, 30, 30, 64)        0         \n",
            "_________________________________________________________________\n",
            "conv2d_2 (Conv2D)            (None, 28, 28, 64)        36928     \n",
            "_________________________________________________________________\n",
            "max_pooling2d_2 (MaxPooling2 (None, 14, 14, 64)        0         \n",
            "_________________________________________________________________\n",
            "dropout_2 (Dropout)          (None, 14, 14, 64)        0         \n",
            "_________________________________________________________________\n",
            "flatten (Flatten)            (None, 12544)             0         \n",
            "_________________________________________________________________\n",
            "dense (Dense)                (None, 64)                802880    \n",
            "_________________________________________________________________\n",
            "dropout_3 (Dropout)          (None, 64)                0         \n",
            "_________________________________________________________________\n",
            "dense_1 (Dense)              (None, 1)                 65        \n",
            "=================================================================\n",
            "Total params: 849,601\n",
            "Trainable params: 849,601\n",
            "Non-trainable params: 0\n",
            "_________________________________________________________________\n"
          ],
          "name": "stdout"
        }
      ]
    },
    {
      "cell_type": "code",
      "metadata": {
        "id": "7EUAY9wor4Cq",
        "colab_type": "code",
        "colab": {}
      },
      "source": [
        "from keras.callbacks import EarlyStopping,ReduceLROnPlateau #Import callback functions"
      ],
      "execution_count": null,
      "outputs": []
    },
    {
      "cell_type": "code",
      "metadata": {
        "id": "v25MMhh5r8wb",
        "colab_type": "code",
        "colab": {}
      },
      "source": [
        "earlystop=EarlyStopping(patience=10) #Monitor the performance. If it dips, then stop training"
      ],
      "execution_count": null,
      "outputs": []
    },
    {
      "cell_type": "code",
      "metadata": {
        "id": "99UjQFd_r-4B",
        "colab_type": "code",
        "colab": {}
      },
      "source": [
        "learning_rate_reduce=ReduceLROnPlateau(monitor='val_acc',min_lr=0.0001) #Change learning rate if not performing good enough"
      ],
      "execution_count": null,
      "outputs": []
    },
    {
      "cell_type": "code",
      "metadata": {
        "id": "6fF-NUIqsB9C",
        "colab_type": "code",
        "colab": {}
      },
      "source": [
        "callbacks=[earlystop,learning_rate_reduce] "
      ],
      "execution_count": null,
      "outputs": []
    },
    {
      "cell_type": "code",
      "metadata": {
        "id": "VPiBxQ8BsEny",
        "colab_type": "code",
        "colab": {
          "base_uri": "https://localhost:8080/",
          "height": 377
        },
        "outputId": "24c77132-0362-48b6-d8e8-51c170a03b4b"
      },
      "source": [
        "#Start training the model with 10 epochs\n",
        "history=model.fit_generator(generator=trainDatagen,\n",
        "                            steps_per_epoch=len(trainDatagen),\n",
        "                            epochs=10,\n",
        "                            validation_data=valDatagen ,\n",
        "                            validation_steps=len(valDatagen )\n",
        "                           )"
      ],
      "execution_count": null,
      "outputs": [
        {
          "output_type": "stream",
          "text": [
            "Epoch 1/10\n",
            "10/10 [==============================] - 3s 350ms/step - loss: 0.5069 - accuracy: 0.7516 - val_loss: 0.5846 - val_accuracy: 0.7143\n",
            "Epoch 2/10\n",
            "10/10 [==============================] - 3s 314ms/step - loss: 0.5209 - accuracy: 0.7405 - val_loss: 0.5266 - val_accuracy: 0.7286\n",
            "Epoch 3/10\n",
            "10/10 [==============================] - 3s 318ms/step - loss: 0.4859 - accuracy: 0.7611 - val_loss: 0.5691 - val_accuracy: 0.7000\n",
            "Epoch 4/10\n",
            "10/10 [==============================] - 3s 317ms/step - loss: 0.4732 - accuracy: 0.7642 - val_loss: 0.5409 - val_accuracy: 0.7286\n",
            "Epoch 5/10\n",
            "10/10 [==============================] - 3s 316ms/step - loss: 0.4879 - accuracy: 0.7832 - val_loss: 0.5250 - val_accuracy: 0.7143\n",
            "Epoch 6/10\n",
            "10/10 [==============================] - 3s 329ms/step - loss: 0.4876 - accuracy: 0.7706 - val_loss: 0.5172 - val_accuracy: 0.7286\n",
            "Epoch 7/10\n",
            "10/10 [==============================] - 3s 326ms/step - loss: 0.4711 - accuracy: 0.7627 - val_loss: 0.5172 - val_accuracy: 0.6857\n",
            "Epoch 8/10\n",
            "10/10 [==============================] - 3s 316ms/step - loss: 0.4656 - accuracy: 0.7737 - val_loss: 0.5118 - val_accuracy: 0.7429\n",
            "Epoch 9/10\n",
            "10/10 [==============================] - 3s 314ms/step - loss: 0.4417 - accuracy: 0.7785 - val_loss: 0.5160 - val_accuracy: 0.7571\n",
            "Epoch 10/10\n",
            "10/10 [==============================] - 3s 313ms/step - loss: 0.4573 - accuracy: 0.7896 - val_loss: 0.5092 - val_accuracy: 0.7571\n"
          ],
          "name": "stdout"
        }
      ]
    },
    {
      "cell_type": "code",
      "metadata": {
        "id": "mihMKF8ysZq9",
        "colab_type": "code",
        "colab": {
          "base_uri": "https://localhost:8080/",
          "height": 265
        },
        "outputId": "901d99c4-db26-4ef9-c30f-7a10f3844c39"
      },
      "source": [
        "#plot this model\n",
        "plt.plot(history.history['accuracy'],color='black', label='Accuracy')\n",
        "plt.plot(history.history['loss'],color='blue', label='Loss')\n",
        "plt.plot(history.history['val_accuracy'],color='yellow', label='Validation Accuracy')\n",
        "plt.plot(history.history['val_loss'],color='red', label='Validation loss')\n",
        "plt.legend()\n",
        "plt.show() "
      ],
      "execution_count": null,
      "outputs": [
        {
          "output_type": "display_data",
          "data": {
            "image/png": "[encoded data removed]",
            "text/plain": [
              "<Figure size 432x288 with 1 Axes>"
            ]
          },
          "metadata": {
            "tags": [],
            "needs_background": "light"
          }
        }
      ]
    },
    {
      "cell_type": "code",
      "metadata": {
        "id": "sqFbTnaUsfpw",
        "colab_type": "code",
        "colab": {}
      },
      "source": [
        "#Save this model as 'hotdogs.h5'\n",
        "model.save('hotdogs.h5')"
      ],
      "execution_count": null,
      "outputs": []
    },
    {
      "cell_type": "code",
      "metadata": {
        "id": "kVPZ85R4smxW",
        "colab_type": "code",
        "colab": {}
      },
      "source": [
        ""
      ],
      "execution_count": null,
      "outputs": []
    }
  ]
}
